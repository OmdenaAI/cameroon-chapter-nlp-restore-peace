{
 "cells": [
  {
   "cell_type": "code",
   "execution_count": 23,
   "id": "088798ae",
   "metadata": {},
   "outputs": [
    {
     "data": {
      "text/plain": [
       "'/home/jaime/projects/Dropbox_project/projects/github_repositories/cameroon-chapter-nlp-restore-peace/src/tasks/task-4-visualization-dashboard'"
      ]
     },
     "execution_count": 23,
     "metadata": {},
     "output_type": "execute_result"
    }
   ],
   "source": [
    "pwd"
   ]
  },
  {
   "cell_type": "code",
   "execution_count": 4,
   "id": "22a36b55",
   "metadata": {},
   "outputs": [
    {
     "name": "stdout",
     "output_type": "stream",
     "text": [
      "\u001b[0m\u001b[01;34mgraphs\u001b[0m/              README.md~\r\n",
      "knowledge_graphs.py  Testing_graph_to_search_engines_data.ipynb\r\n",
      "plot_graphs.py       Testing_visualization.ipynb\r\n",
      "README.md\r\n"
     ]
    }
   ],
   "source": [
    "ls ../task-3-nlp-models/words_based_knowledge_graph/"
   ]
  },
  {
   "cell_type": "code",
   "execution_count": 24,
   "id": "5903c248",
   "metadata": {},
   "outputs": [
    {
     "name": "stdout",
     "output_type": "stream",
     "text": [
      "README.md  Visualization_dashboard.ipynb\r\n"
     ]
    }
   ],
   "source": [
    "ls"
   ]
  },
  {
   "cell_type": "code",
   "execution_count": 5,
   "id": "09ba5663",
   "metadata": {},
   "outputs": [],
   "source": [
    "import os\n",
    "import sys\n",
    "import numpy as np\n",
    "import pandas as pd\n",
    "import importlib\n",
    "sys.path.append('../task-3-nlp-models/words_based_knowledge_graph/')\n",
    "import plot_graphs"
   ]
  },
  {
   "cell_type": "code",
   "execution_count": 6,
   "id": "56560d74",
   "metadata": {},
   "outputs": [],
   "source": [
    "try:\n",
    "    import piplite\n",
    "    await piplite.install(['ipywidgets'])\n",
    "except ImportError:\n",
    "    pass\n",
    "import ipywidgets as widgets"
   ]
  },
  {
   "cell_type": "code",
   "execution_count": 17,
   "id": "c7a2a92e",
   "metadata": {},
   "outputs": [],
   "source": [
    "plot_graphs = importlib.reload(plot_graphs)"
   ]
  },
  {
   "cell_type": "code",
   "execution_count": 52,
   "id": "504a18cb",
   "metadata": {},
   "outputs": [],
   "source": [
    "path_data = '../task-3-nlp-models/words_based_knowledge_graph/data_graphs/'"
   ]
  },
  {
   "cell_type": "code",
   "execution_count": 53,
   "id": "e90f100b",
   "metadata": {},
   "outputs": [],
   "source": [
    "def call_graph_function():\n",
    "    dict_dataset = {1:'news_30_samples', 2:'twitter_2k_samples', 3:'facebook_300_samples'}\n",
    "    dataset = dict_dataset[dataset_dropdown.value]\n",
    "    year = str(year_toggle_buttons.value)\n",
    "    filename = 'graph_'+year+'_by_text_'+dataset+'.csv'\n",
    "    #print(filename)\n",
    "    exist_file = os.path.exists(path_data+filename)\n",
    "    if not exist_file:\n",
    "        print('Graph for',dataset.split('_')[0].upper(),'for the year',year,'is not available yet.')\n",
    "    else:        \n",
    "        df_graph = pd.read_csv(path_data+filename)  \n",
    "        df_graph = df_graph[['src', 'dst', 'index']]\n",
    "        df_graph.columns = ['src', 'dst', 'edge']\n",
    "        # to prevent an issue in the pyvis library when the nodes are string of numbers        \n",
    "        for index in list(df_graph['dst'][df_graph['dst'].str.isnumeric()].index):\n",
    "            df_graph['dst'].loc[index] = str(df_graph['dst'].loc[index]) + '_x'  \n",
    "\n",
    "        net = plot_graphs.create_graph(df_graph, edges_norm=False, min_degree_node=filter_nodes.value, \n",
    "                                       show_in_notebook=True) \n",
    "        #print(path_graph+filename[:-4])\n",
    "        #plot_graphs.plot_graph(net, path_graph+filename[:-4], show_in_notebook=True)\n",
    "        plot_graphs.plot_graph(net, 'graph_tmp', show_in_notebook=True)\n",
    "    \n",
    "def call_sentiment_function():\n",
    "    print('Sentiment here')"
   ]
  },
  {
   "cell_type": "code",
   "execution_count": 54,
   "id": "f64988fd",
   "metadata": {},
   "outputs": [],
   "source": [
    "def on_button_graph_clicked(x):                \n",
    "    with out_graph:\n",
    "        out_graph.clear_output()\n",
    "        call_graph_function()        \n",
    "        \n",
    "def on_button_sentiment_clicked(x):                \n",
    "    with out_sentiment:\n",
    "        out_sentiment.clear_output()\n",
    "        call_sentiment_function()                \n",
    "    \n",
    "dataset_dropdown = widgets.Dropdown(\n",
    "    options=[('News', 1), ('Twitter', 2), ('Facebook', 3)],\n",
    "    value=1,\n",
    "    description='Data:',\n",
    ")\n",
    "year_toggle_buttons = widgets.ToggleButtons(\n",
    "    options=['2016', '2017', '2018', '2019', '2020', '2021', '2022'],\n",
    "    description='Years:',\n",
    "    disabled=False,\n",
    "    button_style='info', \n",
    "    tooltips=['year 2016', 'year 2017', 'year 2018', 'year 2019', 'year 2020', 'year 2021', 'year 2022'],\n",
    ")\n",
    "# year_toggle_buttons = widgets.Dropdown(\n",
    "#     options=[('2016', '2016'), ('2017', '2017'), ('2018', '2018'), \n",
    "#              ('2019', '2019'), ('2020', '2020'), ('2021', '2021'),\n",
    "#              ('2022', '2022')],\n",
    "#     value='2016',\n",
    "#     description='Years:',\n",
    "# )\n",
    "filter_nodes = widgets.IntSlider( \n",
    "                            value=10,\n",
    "                            min=0,\n",
    "                            max=30,\n",
    "                            step=2,\n",
    "                            description='Filter Nodes:',\n",
    "                            disabled=False,\n",
    "                            continuous_update=False,\n",
    "                            orientation='horizontal', #vertical\n",
    "                            readout=True,\n",
    "                            readout_format='d',\n",
    "                            tooltip='Degree of nodes'\n",
    ")\n",
    "\n",
    "accept_button_graph = widgets.Button(description='Show Graph', tooltip='plot the a graph for data/year/filter selected')\n",
    "accept_button_graph.on_click(on_button_graph_clicked)  \n",
    "\n",
    "accept_button_sentiment = widgets.Button(description='Show Sentiment')\n",
    "accept_button_sentiment.on_click(on_button_sentiment_clicked)  "
   ]
  },
  {
   "cell_type": "code",
   "execution_count": 55,
   "id": "4cda67cb",
   "metadata": {},
   "outputs": [
    {
     "data": {
      "application/vnd.jupyter.widget-view+json": {
       "model_id": "0d1edb41ff264a8585cf524d6d3db488",
       "version_major": 2,
       "version_minor": 0
      },
      "text/plain": [
       "Output(layout=Layout(border='1px solid black'))"
      ]
     },
     "metadata": {},
     "output_type": "display_data"
    },
    {
     "data": {
      "application/vnd.jupyter.widget-view+json": {
       "model_id": "72e2771a06ae4df8b52473aaf6f90f49",
       "version_major": 2,
       "version_minor": 0
      },
      "text/plain": [
       "Output(layout=Layout(border='1px solid black'))"
      ]
     },
     "metadata": {},
     "output_type": "display_data"
    },
    {
     "data": {
      "application/vnd.jupyter.widget-view+json": {
       "model_id": "0782595b7b1f46e09bd477d70d52e246",
       "version_major": 2,
       "version_minor": 0
      },
      "text/plain": [
       "Output(layout=Layout(border='1px solid black'))"
      ]
     },
     "metadata": {},
     "output_type": "display_data"
    },
    {
     "data": {
      "application/vnd.jupyter.widget-view+json": {
       "model_id": "76d97fac45f14783a3195ae200dcd754",
       "version_major": 2,
       "version_minor": 0
      },
      "text/plain": [
       "Output(layout=Layout(border='1px solid black'))"
      ]
     },
     "metadata": {},
     "output_type": "display_data"
    },
    {
     "data": {
      "application/vnd.jupyter.widget-view+json": {
       "model_id": "9abdd14093c04ac08b60fe81d0c120fa",
       "version_major": 2,
       "version_minor": 0
      },
      "text/plain": [
       "Output(layout=Layout(border='1px solid black'))"
      ]
     },
     "metadata": {},
     "output_type": "display_data"
    }
   ],
   "source": [
    "#basic\n",
    "out_basic_controls = widgets.Output(layout={'border': '1px solid black'})\n",
    "display(out_basic_controls)\n",
    "\n",
    "# for graph\n",
    "out_basic_graph = widgets.Output(layout={'border': '1px solid black'})\n",
    "out_graph = widgets.Output(layout={'border': '1px solid black'})\n",
    "display(out_basic_graph)\n",
    "display(out_graph)\n",
    "\n",
    "# for sentiment\n",
    "out_basic_sentiment = widgets.Output(layout={'border': '1px solid black'})\n",
    "out_sentiment = widgets.Output(layout={'border': '1px solid black'})\n",
    "display(out_basic_sentiment)\n",
    "display(out_sentiment)\n",
    "\n",
    "with out_basic_controls:    \n",
    "    display(dataset_dropdown)\n",
    "    display(year_toggle_buttons) \n",
    "    display(filter_nodes)\n",
    "    \n",
    "with out_basic_graph:\n",
    "    display(accept_button_graph)\n",
    "    \n",
    "with out_basic_sentiment:\n",
    "    display(accept_button_sentiment)    "
   ]
  },
  {
   "cell_type": "code",
   "execution_count": 12,
   "id": "d0f9635c",
   "metadata": {},
   "outputs": [
    {
     "data": {
      "text/plain": [
       "'2016'"
      ]
     },
     "execution_count": 12,
     "metadata": {},
     "output_type": "execute_result"
    }
   ],
   "source": [
    "year_toggle_buttons.value"
   ]
  },
  {
   "cell_type": "code",
   "execution_count": null,
   "id": "d185a311",
   "metadata": {},
   "outputs": [],
   "source": []
  }
 ],
 "metadata": {
  "kernelspec": {
   "display_name": "Python 3 (ipykernel)",
   "language": "python",
   "name": "python3"
  },
  "language_info": {
   "codemirror_mode": {
    "name": "ipython",
    "version": 3
   },
   "file_extension": ".py",
   "mimetype": "text/x-python",
   "name": "python",
   "nbconvert_exporter": "python",
   "pygments_lexer": "ipython3",
   "version": "3.10.8"
  }
 },
 "nbformat": 4,
 "nbformat_minor": 5
}
